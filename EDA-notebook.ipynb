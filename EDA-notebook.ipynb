{
 "cells": [
  {
   "cell_type": "markdown",
   "metadata": {},
   "source": [
    "## Alzheimer stage classification\n",
    "On a dans ce problème un dataset contenant des images IRM des cerveaux de personnes atteintes de la maladie d'Alzheimer. On a alors les 4 classes suivantes : \n",
    "- NonDemented : non atteint de démance\n",
    "- VeryMildDemented : Démance très légère\n",
    "- MildDemented : Légère démance\n",
    "- ModerateDemented : Démence modérée\n",
    "\n",
    "### Objectif de ce notebook\n",
    "L'objectif de ce notebook est de mettre en place une analyse et un certain nombre de visualisation sur les données qu'on a"
   ]
  },
  {
   "cell_type": "code",
   "execution_count": null,
   "metadata": {},
   "outputs": [],
   "source": []
  }
 ],
 "metadata": {
  "language_info": {
   "name": "python"
  },
  "orig_nbformat": 4
 },
 "nbformat": 4,
 "nbformat_minor": 2
}
