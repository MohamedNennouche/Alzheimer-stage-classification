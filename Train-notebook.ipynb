{
 "cells": [
  {
   "cell_type": "code",
   "execution_count": 1,
   "metadata": {},
   "outputs": [],
   "source": [
    "import tensorflow as tf\n",
    "import matplotlib.pyplot as plt\n",
    "import numpy as np\n",
    "import seaborn as sns\n",
    "import os\n",
    "\n",
    "from sklearn.model_selection import train_test_split\n",
    "\n",
    "from tensorflow.keras.layers import Conv2D, Input, Dense, MaxPool2D, BatchNormalization, GlobalAvgPool2D, Flatten\n",
    "from tensorflow.keras import Model\n",
    "from tensorflow.keras.preprocessing.image import ImageDataGenerator\n",
    "\n",
    "# for callback\n",
    "from tensorflow.keras.callbacks import ModelCheckpoint, EarlyStopping\n",
    "\n",
    "import cv2 as cv"
   ]
  },
  {
   "cell_type": "code",
   "execution_count": 2,
   "metadata": {},
   "outputs": [
    {
     "data": {
      "text/plain": [
       "(208, 176, 3)"
      ]
     },
     "execution_count": 2,
     "metadata": {},
     "output_type": "execute_result"
    }
   ],
   "source": [
    "image = cv.imread(\"./DatasetMedian/Training/MildDemented/mildDem0.jpg\")\n",
    "image.shape"
   ]
  },
  {
   "cell_type": "code",
   "execution_count": 3,
   "metadata": {},
   "outputs": [],
   "source": [
    "def irm_model(nbr_classes) :\n",
    "    my_input = Input(shape=(208, 176, 3)) # taille moyenne et les 3 canaux RGB\n",
    "    x= Conv2D(32, (3,3), activation='relu')(my_input)\n",
    "    x= Conv2D(64, (3,3), activation='relu')(x)\n",
    "    x= MaxPool2D()(x)\n",
    "    x= BatchNormalization()(x)\n",
    "\n",
    "    x= Conv2D(128, (3,3), activation='relu')(x)\n",
    "    x= MaxPool2D()(x)\n",
    "    x= BatchNormalization()(x)\n",
    "\n",
    "    x= GlobalAvgPool2D()(x)\n",
    "    #x = Flatten()(x)\n",
    "    x= Dense(64, activation='relu')(x)\n",
    "    x= Dense(nbr_classes, activation='softmax')(x)\n",
    "    model = Model(inputs=my_input, outputs=x)\n",
    "    return model"
   ]
  },
  {
   "cell_type": "code",
   "execution_count": 4,
   "metadata": {},
   "outputs": [
    {
     "name": "stdout",
     "output_type": "stream",
     "text": [
      "Model: \"model\"\n",
      "_________________________________________________________________\n",
      " Layer (type)                Output Shape              Param #   \n",
      "=================================================================\n",
      " input_1 (InputLayer)        [(None, 208, 176, 3)]     0         \n",
      "                                                                 \n",
      " conv2d (Conv2D)             (None, 206, 174, 32)      896       \n",
      "                                                                 \n",
      " conv2d_1 (Conv2D)           (None, 204, 172, 64)      18496     \n",
      "                                                                 \n",
      " max_pooling2d (MaxPooling2D  (None, 102, 86, 64)      0         \n",
      " )                                                               \n",
      "                                                                 \n",
      " batch_normalization (BatchN  (None, 102, 86, 64)      256       \n",
      " ormalization)                                                   \n",
      "                                                                 \n",
      " conv2d_2 (Conv2D)           (None, 100, 84, 128)      73856     \n",
      "                                                                 \n",
      " max_pooling2d_1 (MaxPooling  (None, 50, 42, 128)      0         \n",
      " 2D)                                                             \n",
      "                                                                 \n",
      " batch_normalization_1 (Batc  (None, 50, 42, 128)      512       \n",
      " hNormalization)                                                 \n",
      "                                                                 \n",
      " global_average_pooling2d (G  (None, 128)              0         \n",
      " lobalAveragePooling2D)                                          \n",
      "                                                                 \n",
      " dense (Dense)               (None, 64)                8256      \n",
      "                                                                 \n",
      " dense_1 (Dense)             (None, 43)                2795      \n",
      "                                                                 \n",
      "=================================================================\n",
      "Total params: 105,067\n",
      "Trainable params: 104,683\n",
      "Non-trainable params: 384\n",
      "_________________________________________________________________\n"
     ]
    }
   ],
   "source": [
    "if __name__=='__main__' :\n",
    "\n",
    "    model = irm_model(43)\n",
    "    model.summary()"
   ]
  },
  {
   "cell_type": "code",
   "execution_count": 5,
   "metadata": {},
   "outputs": [],
   "source": [
    "def create_generators(batch_size, train_data_path, val_data_path, test_data_path) :\n",
    "    preprocessor = ImageDataGenerator(\n",
    "        rescale = 1/255. # pour assurer une division flottante\n",
    "    )\n",
    "\n",
    "    # !très important pour prendre des données en prenant chaque sous dossier comme classe à part entière\n",
    "    train_generator = preprocessor.flow_from_directory(\n",
    "        train_data_path,\n",
    "        class_mode=\"categorical\",\n",
    "        target_size=(60,60), #resize all images\n",
    "        color_mode = 'rgb', # type d'images\n",
    "        shuffle = True,\n",
    "        batch_size=batch_size\n",
    "    )\n",
    "\n",
    "    val_generator = preprocessor.flow_from_directory(\n",
    "        val_data_path,\n",
    "        class_mode=\"categorical\",\n",
    "        target_size=(60,60), #resize all images\n",
    "        color_mode = 'rgb', # type d'images\n",
    "        shuffle = False,\n",
    "        batch_size=batch_size\n",
    "    )\n",
    "\n",
    "    test_generator = preprocessor.flow_from_directory(\n",
    "        test_data_path,\n",
    "        class_mode=\"categorical\",\n",
    "        target_size=(60,60), #resize all images\n",
    "        color_mode = 'rgb', # type d'images\n",
    "        shuffle = False,\n",
    "        batch_size=batch_size\n",
    "    )\n",
    "\n",
    "    return train_generator, val_generator, test_generator"
   ]
  },
  {
   "cell_type": "code",
   "execution_count": 6,
   "metadata": {},
   "outputs": [
    {
     "name": "stdout",
     "output_type": "stream",
     "text": [
      "Found 4607 images belonging to 4 classes.\n",
      "Found 514 images belonging to 4 classes.\n",
      "Found 1279 images belonging to 4 classes.\n"
     ]
    }
   ],
   "source": [
    "train_data_path = \"./DatasetMedian/Training\"\n",
    "val_data_path = \"./DatasetMedian/Validation\"\n",
    "test_data_path = \"./DatasetMedian/test\"\n",
    "batch_size = 16\n",
    "\n",
    "train_generator, val_generator, test_generator= create_generators(batch_size, train_data_path, val_data_path, test_data_path)\n",
    "\n",
    "nbr_classes = train_generator.num_classes"
   ]
  },
  {
   "cell_type": "code",
   "execution_count": 7,
   "metadata": {},
   "outputs": [],
   "source": [
    "model = irm_model(nbr_classes)"
   ]
  },
  {
   "cell_type": "code",
   "execution_count": 8,
   "metadata": {},
   "outputs": [],
   "source": [
    "# callbacks\n",
    "path_to_save_model = './Models'\n",
    "ckpt_saver = ModelCheckpoint(\n",
    "    path_to_save_model,\n",
    "    monitor='val_accuracy', # sur quoi on se base pour voir le meilleur\n",
    "    mode = 'max', # max de l'accuracy sur la validation\n",
    "    save_best_only = True,\n",
    "    save_freq='epoch', # ne voit qu'à la fin de l'époque\n",
    "    verbose=1\n",
    ") \n",
    "\n",
    "early_stop = EarlyStopping(\n",
    "    monitor='val_accuracy',\n",
    "    patience=10 # après 10 époques ca change pas on s'arrête\n",
    ")\n",
    "\n",
    "model.compile(optimizer='adam', loss='categorical_crossentropy', metrics=['accuracy']) # on choisit categorical_crossentropy car dans les générateurs on a défini categorical comme class_mode\n",
    "\n",
    "epochs = 50"
   ]
  },
  {
   "cell_type": "code",
   "execution_count": 9,
   "metadata": {},
   "outputs": [
    {
     "name": "stdout",
     "output_type": "stream",
     "text": [
      "Epoch 1/50\n",
      "288/288 [==============================] - ETA: 0s - loss: 0.9360 - accuracy: 0.5702\n",
      "Epoch 1: val_accuracy improved from -inf to 0.49805, saving model to .\\Models\n",
      "INFO:tensorflow:Assets written to: .\\Models\\assets\n",
      "288/288 [==============================] - 85s 286ms/step - loss: 0.9360 - accuracy: 0.5702 - val_loss: 1.1784 - val_accuracy: 0.4981\n",
      "Epoch 2/50\n",
      "288/288 [==============================] - ETA: 0s - loss: 0.8418 - accuracy: 0.6132\n",
      "Epoch 2: val_accuracy did not improve from 0.49805\n",
      "288/288 [==============================] - 72s 248ms/step - loss: 0.8418 - accuracy: 0.6132 - val_loss: 3.9748 - val_accuracy: 0.4981\n",
      "Epoch 3/50\n",
      "288/288 [==============================] - ETA: 0s - loss: 0.7615 - accuracy: 0.6629\n",
      "Epoch 3: val_accuracy improved from 0.49805 to 0.52140, saving model to .\\Models\n",
      "INFO:tensorflow:Assets written to: .\\Models\\assets\n",
      "288/288 [==============================] - 64s 223ms/step - loss: 0.7615 - accuracy: 0.6629 - val_loss: 1.4463 - val_accuracy: 0.5214\n",
      "Epoch 4/50\n",
      "288/288 [==============================] - ETA: 0s - loss: 0.6615 - accuracy: 0.7104\n",
      "Epoch 4: val_accuracy did not improve from 0.52140\n",
      "288/288 [==============================] - 59s 205ms/step - loss: 0.6615 - accuracy: 0.7104 - val_loss: 1.3827 - val_accuracy: 0.4261\n",
      "Epoch 5/50\n",
      "288/288 [==============================] - ETA: 0s - loss: 0.5212 - accuracy: 0.7834\n",
      "Epoch 5: val_accuracy improved from 0.52140 to 0.54864, saving model to .\\Models\n",
      "INFO:tensorflow:Assets written to: .\\Models\\assets\n",
      "288/288 [==============================] - 77s 267ms/step - loss: 0.5212 - accuracy: 0.7834 - val_loss: 1.3202 - val_accuracy: 0.5486\n",
      "Epoch 6/50\n",
      "288/288 [==============================] - ETA: 0s - loss: 0.3442 - accuracy: 0.8735\n",
      "Epoch 6: val_accuracy did not improve from 0.54864\n",
      "288/288 [==============================] - 69s 241ms/step - loss: 0.3442 - accuracy: 0.8735 - val_loss: 1.9683 - val_accuracy: 0.4767\n",
      "Epoch 7/50\n",
      "288/288 [==============================] - ETA: 0s - loss: 0.2264 - accuracy: 0.9245\n",
      "Epoch 7: val_accuracy did not improve from 0.54864\n",
      "288/288 [==============================] - 64s 224ms/step - loss: 0.2264 - accuracy: 0.9245 - val_loss: 2.1199 - val_accuracy: 0.3716\n",
      "Epoch 8/50\n",
      "288/288 [==============================] - ETA: 0s - loss: 0.1565 - accuracy: 0.9479\n",
      "Epoch 8: val_accuracy did not improve from 0.54864\n",
      "288/288 [==============================] - 74s 257ms/step - loss: 0.1565 - accuracy: 0.9479 - val_loss: 7.1427 - val_accuracy: 0.1401\n",
      "Epoch 9/50\n",
      " 73/288 [======>.......................] - ETA: 1:03 - loss: 0.1168 - accuracy: 0.9598"
     ]
    }
   ],
   "source": [
    "model.fit(\n",
    "    train_generator,\n",
    "    epochs = epochs,\n",
    "    batch_size = batch_size,\n",
    "    validation_data = val_generator,\n",
    "    callbacks=[ckpt_saver]\n",
    ")"
   ]
  },
  {
   "cell_type": "code",
   "execution_count": null,
   "metadata": {},
   "outputs": [
    {
     "name": "stdout",
     "output_type": "stream",
     "text": [
      "80/80 [==============================] - 7s 87ms/step - loss: 3.3109 - accuracy: 0.5880\n"
     ]
    },
    {
     "data": {
      "text/plain": [
       "[3.310868263244629, 0.587959349155426]"
      ]
     },
     "execution_count": 12,
     "metadata": {},
     "output_type": "execute_result"
    }
   ],
   "source": [
    "model.evaluate(test_generator, batch_size=16)"
   ]
  }
 ],
 "metadata": {
  "interpreter": {
   "hash": "374be8c39ae01ff66328729506a9b9a7ba9eb3f2df141c8f3098ad96d8cc6bdd"
  },
  "kernelspec": {
   "display_name": "Python 3.8.8 ('base')",
   "language": "python",
   "name": "python3"
  },
  "language_info": {
   "codemirror_mode": {
    "name": "ipython",
    "version": 3
   },
   "file_extension": ".py",
   "mimetype": "text/x-python",
   "name": "python",
   "nbconvert_exporter": "python",
   "pygments_lexer": "ipython3",
   "version": "3.8.8"
  },
  "orig_nbformat": 4
 },
 "nbformat": 4,
 "nbformat_minor": 2
}
